{
 "cells": [
  {
   "cell_type": "code",
   "execution_count": 1,
   "id": "initial_id",
   "metadata": {
    "ExecuteTime": {
     "end_time": "2025-05-15T14:52:06.488823Z",
     "start_time": "2025-05-15T14:52:06.486279Z"
    },
    "collapsed": true
   },
   "outputs": [],
   "source": [
    "import pandas as pd\n",
    "import os"
   ]
  },
  {
   "cell_type": "code",
   "execution_count": 2,
   "id": "f12628e38a0948f",
   "metadata": {
    "ExecuteTime": {
     "end_time": "2025-05-15T14:52:08.022445Z",
     "start_time": "2025-05-15T14:52:08.016130Z"
    }
   },
   "outputs": [
    {
     "data": {
      "application/vnd.microsoft.datawrangler.viewer.v0+json": {
       "columns": [
        {
         "name": "index",
         "rawType": "int64",
         "type": "integer"
        },
        {
         "name": "IMG_FILE",
         "rawType": "object",
         "type": "string"
        },
        {
         "name": "LAT",
         "rawType": "float64",
         "type": "float"
        },
        {
         "name": "LON",
         "rawType": "float64",
         "type": "float"
        }
       ],
       "ref": "36711a1b-b9b5-4188-8892-6b901c4c506c",
       "rows": [
        [
         "0",
         "imagini_street_view_meu_mare/Palatul_Parlamentului_coord_0_h222.jpg",
         "44.4301407",
         "26.0910817"
        ],
        [
         "1",
         "imagini_street_view_meu_mare/Palatul_Parlamentului_coord_1_h223.jpg",
         "44.43005082583934",
         "26.091075267426337"
        ],
        [
         "2",
         "imagini_street_view_meu_mare/Palatul_Parlamentului_coord_2_h224.jpg",
         "44.42996095167689",
         "26.091068834872388"
        ],
        [
         "3",
         "imagini_street_view_meu_mare/Palatul_Parlamentului_coord_3_h225.jpg",
         "44.42987106230871",
         "26.09106337924066"
        ],
        [
         "4",
         "imagini_street_view_meu_mare/Palatul_Parlamentului_coord_4_h226.jpg",
         "44.429781192285226",
         "26.09105774843599"
        ],
        [
         "5",
         "imagini_street_view_meu_mare/Palatul_Parlamentului_coord_5_h227.jpg",
         "44.429691357776335",
         "26.09105031490841"
        ],
        [
         "6",
         "imagini_street_view_meu_mare/Palatul_Parlamentului_coord_6_h228.jpg",
         "44.42960152326556",
         "26.09104288140361"
        ],
        [
         "7",
         "imagini_street_view_meu_mare/Palatul_Parlamentului_coord_7_h229.jpg",
         "44.42951168875288",
         "26.091035447921577"
        ],
        [
         "8",
         "imagini_street_view_meu_mare/Palatul_Parlamentului_coord_8_h231.jpg",
         "44.42942185423828",
         "26.09102801446232"
        ],
        [
         "9",
         "imagini_street_view_meu_mare/Palatul_Parlamentului_coord_9_h232.jpg",
         "44.429331997527264",
         "26.09102116582298"
        ],
        [
         "10",
         "imagini_street_view_meu_mare/Palatul_Parlamentului_coord_10_h233.jpg",
         "44.429242113154",
         "26.091015017159563"
        ],
        [
         "11",
         "imagini_street_view_meu_mare/Palatul_Parlamentului_coord_11_h235.jpg",
         "44.429152228779",
         "26.091008868515"
        ],
        [
         "12",
         "imagini_street_view_meu_mare/Palatul_Parlamentului_coord_12_h236.jpg",
         "44.42906234440224",
         "26.091002719889275"
        ],
        [
         "13",
         "imagini_street_view_meu_mare/Palatul_Parlamentului_coord_13_h238.jpg",
         "44.42897246002372",
         "26.0909965712824"
        ],
        [
         "14",
         "imagini_street_view_meu_mare/Palatul_Parlamentului_coord_14_h240.jpg",
         "44.428882575643456",
         "26.09099042269437"
        ],
        [
         "15",
         "imagini_street_view_meu_mare/Palatul_Parlamentului_coord_15_h241.jpg",
         "44.42879269126144",
         "26.090984274125187"
        ],
        [
         "16",
         "imagini_street_view_meu_mare/Palatul_Parlamentului_coord_16_h243.jpg",
         "44.42870280687767",
         "26.09097812557485"
        ],
        [
         "17",
         "imagini_street_view_meu_mare/Palatul_Parlamentului_coord_17_h245.jpg",
         "44.42861292249214",
         "26.09097197704336"
        ],
        [
         "18",
         "imagini_street_view_meu_mare/Palatul_Parlamentului_coord_18_h247.jpg",
         "44.42852303810487",
         "26.090965828530717"
        ],
        [
         "19",
         "imagini_street_view_meu_mare/Palatul_Parlamentului_coord_19_h249.jpg",
         "44.4284331658691",
         "26.09095933669192"
        ],
        [
         "20",
         "imagini_street_view_meu_mare/Palatul_Parlamentului_coord_20_h327.jpg",
         "44.4245676",
         "26.0905925"
        ],
        [
         "21",
         "imagini_street_view_meu_mare/Palatul_Parlamentului_coord_21_h328.jpg",
         "44.42457523394756",
         "26.090467375026915"
        ],
        [
         "22",
         "imagini_street_view_meu_mare/Palatul_Parlamentului_coord_22_h329.jpg",
         "44.424582867758026",
         "26.090342250021266"
        ],
        [
         "23",
         "imagini_street_view_meu_mare/Palatul_Parlamentului_coord_23_h331.jpg",
         "44.42459050143143",
         "26.09021712498305"
        ],
        [
         "24",
         "imagini_street_view_meu_mare/Palatul_Parlamentului_coord_24_h332.jpg",
         "44.42459805868951",
         "26.09009199086759"
        ],
        [
         "25",
         "imagini_street_view_meu_mare/Palatul_Parlamentului_coord_25_h333.jpg",
         "44.42460569729182",
         "26.08996686638269"
        ],
        [
         "26",
         "imagini_street_view_meu_mare/Palatul_Parlamentului_coord_26_h334.jpg",
         "44.42461328171978",
         "26.089841735454247"
        ],
        [
         "27",
         "imagini_street_view_meu_mare/Palatul_Parlamentului_coord_27_h336.jpg",
         "44.4246209289672",
         "26.08971661196513"
        ],
        [
         "28",
         "imagini_street_view_meu_mare/Palatul_Parlamentului_coord_28_h337.jpg",
         "44.424628576077545",
         "26.089591488443396"
        ],
        [
         "29",
         "imagini_street_view_meu_mare/Palatul_Parlamentului_coord_29_h339.jpg",
         "44.42463622305081",
         "26.089466364889034"
        ],
        [
         "30",
         "imagini_street_view_meu_mare/Palatul_Parlamentului_coord_30_h340.jpg",
         "44.424643869887",
         "26.089341241302048"
        ],
        [
         "31",
         "imagini_street_view_meu_mare/Palatul_Parlamentului_coord_31_h342.jpg",
         "44.42465151658613",
         "26.08921611768244"
        ],
        [
         "32",
         "imagini_street_view_meu_mare/Palatul_Parlamentului_coord_32_h343.jpg",
         "44.42465916314816",
         "26.08909099403021"
        ],
        [
         "33",
         "imagini_street_view_meu_mare/Palatul_Parlamentului_coord_33_h345.jpg",
         "44.424666809573125",
         "26.08896587034537"
        ],
        [
         "34",
         "imagini_street_view_meu_mare/Palatul_Parlamentului_coord_34_h346.jpg",
         "44.424674455861016",
         "26.08884074662789"
        ],
        [
         "35",
         "imagini_street_view_meu_mare/Palatul_Parlamentului_coord_35_h348.jpg",
         "44.42468185639935",
         "26.08871559370211"
        ],
        [
         "36",
         "imagini_street_view_meu_mare/Palatul_Parlamentului_coord_36_h350.jpg",
         "44.42468949911997",
         "26.088590469528167"
        ],
        [
         "37",
         "imagini_street_view_meu_mare/Palatul_Parlamentului_coord_37_h351.jpg",
         "44.42469714170351",
         "26.088465345321616"
        ],
        [
         "38",
         "imagini_street_view_meu_mare/Palatul_Parlamentului_coord_38_h353.jpg",
         "44.42470478414997",
         "26.088340221082465"
        ],
        [
         "39",
         "imagini_street_view_meu_mare/Palatul_Parlamentului_coord_39_h355.jpg",
         "44.42471242645935",
         "26.08821509681071"
        ],
        [
         "40",
         "imagini_street_view_meu_mare/Palatul_Parlamentului_coord_40_h356.jpg",
         "44.42472006863165",
         "26.08808997250635"
        ],
        [
         "41",
         "imagini_street_view_meu_mare/Palatul_Parlamentului_coord_41_h358.jpg",
         "44.42472771066688",
         "26.08796484816939"
        ],
        [
         "42",
         "imagini_street_view_meu_mare/Palatul_Parlamentului_coord_42_h0.jpg",
         "44.42473535256503",
         "26.087839723799824"
        ],
        [
         "43",
         "imagini_street_view_meu_mare/Palatul_Parlamentului_coord_43_h2.jpg",
         "44.4247429943261",
         "26.08771459939766"
        ],
        [
         "44",
         "imagini_street_view_meu_mare/Palatul_Parlamentului_coord_44_h4.jpg",
         "44.42475063595008",
         "26.087589474962897"
        ],
        [
         "45",
         "imagini_street_view_meu_mare/Palatul_Parlamentului_coord_45_h5.jpg",
         "44.42475827743701",
         "26.08746435049553"
        ],
        [
         "46",
         "imagini_street_view_meu_mare/Palatul_Parlamentului_coord_46_h7.jpg",
         "44.424765918786846",
         "26.087339225995564"
        ],
        [
         "47",
         "imagini_street_view_meu_mare/Palatul_Parlamentului_coord_47_h9.jpg",
         "44.42477355999961",
         "26.087214101463"
        ],
        [
         "48",
         "imagini_street_view_meu_mare/Palatul_Parlamentului_coord_48_h11.jpg",
         "44.42478099590919",
         "26.087088952733247"
        ],
        [
         "49",
         "imagini_street_view_meu_mare/Palatul_Parlamentului_coord_49_h13.jpg",
         "44.42478866846712",
         "26.08696383193097"
        ]
       ],
       "shape": {
        "columns": 3,
        "rows": 2981
       }
      },
      "text/html": [
       "<div>\n",
       "<style scoped>\n",
       "    .dataframe tbody tr th:only-of-type {\n",
       "        vertical-align: middle;\n",
       "    }\n",
       "\n",
       "    .dataframe tbody tr th {\n",
       "        vertical-align: top;\n",
       "    }\n",
       "\n",
       "    .dataframe thead th {\n",
       "        text-align: right;\n",
       "    }\n",
       "</style>\n",
       "<table border=\"1\" class=\"dataframe\">\n",
       "  <thead>\n",
       "    <tr style=\"text-align: right;\">\n",
       "      <th></th>\n",
       "      <th>IMG_FILE</th>\n",
       "      <th>LAT</th>\n",
       "      <th>LON</th>\n",
       "    </tr>\n",
       "  </thead>\n",
       "  <tbody>\n",
       "    <tr>\n",
       "      <th>0</th>\n",
       "      <td>imagini_street_view_meu_mare/Palatul_Parlament...</td>\n",
       "      <td>44.430141</td>\n",
       "      <td>26.091082</td>\n",
       "    </tr>\n",
       "    <tr>\n",
       "      <th>1</th>\n",
       "      <td>imagini_street_view_meu_mare/Palatul_Parlament...</td>\n",
       "      <td>44.430051</td>\n",
       "      <td>26.091075</td>\n",
       "    </tr>\n",
       "    <tr>\n",
       "      <th>2</th>\n",
       "      <td>imagini_street_view_meu_mare/Palatul_Parlament...</td>\n",
       "      <td>44.429961</td>\n",
       "      <td>26.091069</td>\n",
       "    </tr>\n",
       "    <tr>\n",
       "      <th>3</th>\n",
       "      <td>imagini_street_view_meu_mare/Palatul_Parlament...</td>\n",
       "      <td>44.429871</td>\n",
       "      <td>26.091063</td>\n",
       "    </tr>\n",
       "    <tr>\n",
       "      <th>4</th>\n",
       "      <td>imagini_street_view_meu_mare/Palatul_Parlament...</td>\n",
       "      <td>44.429781</td>\n",
       "      <td>26.091058</td>\n",
       "    </tr>\n",
       "    <tr>\n",
       "      <th>...</th>\n",
       "      <td>...</td>\n",
       "      <td>...</td>\n",
       "      <td>...</td>\n",
       "    </tr>\n",
       "    <tr>\n",
       "      <th>2976</th>\n",
       "      <td>imagini_street_view_meu_mare/Spitalul_Universi...</td>\n",
       "      <td>44.435420</td>\n",
       "      <td>26.074217</td>\n",
       "    </tr>\n",
       "    <tr>\n",
       "      <th>2977</th>\n",
       "      <td>imagini_street_view_meu_mare/Spitalul_Universi...</td>\n",
       "      <td>44.435484</td>\n",
       "      <td>26.074305</td>\n",
       "    </tr>\n",
       "    <tr>\n",
       "      <th>2978</th>\n",
       "      <td>imagini_street_view_meu_mare/Spitalul_Universi...</td>\n",
       "      <td>44.435549</td>\n",
       "      <td>26.074392</td>\n",
       "    </tr>\n",
       "    <tr>\n",
       "      <th>2979</th>\n",
       "      <td>imagini_street_view_meu_mare/Spitalul_Universi...</td>\n",
       "      <td>44.435613</td>\n",
       "      <td>26.074480</td>\n",
       "    </tr>\n",
       "    <tr>\n",
       "      <th>2980</th>\n",
       "      <td>imagini_street_view_meu_mare/Spitalul_Universi...</td>\n",
       "      <td>44.435678</td>\n",
       "      <td>26.074567</td>\n",
       "    </tr>\n",
       "  </tbody>\n",
       "</table>\n",
       "<p>2981 rows × 3 columns</p>\n",
       "</div>"
      ],
      "text/plain": [
       "                                               IMG_FILE        LAT        LON\n",
       "0     imagini_street_view_meu_mare/Palatul_Parlament...  44.430141  26.091082\n",
       "1     imagini_street_view_meu_mare/Palatul_Parlament...  44.430051  26.091075\n",
       "2     imagini_street_view_meu_mare/Palatul_Parlament...  44.429961  26.091069\n",
       "3     imagini_street_view_meu_mare/Palatul_Parlament...  44.429871  26.091063\n",
       "4     imagini_street_view_meu_mare/Palatul_Parlament...  44.429781  26.091058\n",
       "...                                                 ...        ...        ...\n",
       "2976  imagini_street_view_meu_mare/Spitalul_Universi...  44.435420  26.074217\n",
       "2977  imagini_street_view_meu_mare/Spitalul_Universi...  44.435484  26.074305\n",
       "2978  imagini_street_view_meu_mare/Spitalul_Universi...  44.435549  26.074392\n",
       "2979  imagini_street_view_meu_mare/Spitalul_Universi...  44.435613  26.074480\n",
       "2980  imagini_street_view_meu_mare/Spitalul_Universi...  44.435678  26.074567\n",
       "\n",
       "[2981 rows x 3 columns]"
      ]
     },
     "execution_count": 2,
     "metadata": {},
     "output_type": "execute_result"
    }
   ],
   "source": [
    "CSV_FILE = 'landmarks_streetview_meu_mare.csv'\n",
    "OUTPUT_DIR='imagini_street_view_meu_mare'\n",
    "csv_df = pd.read_csv(CSV_FILE)\n",
    "csv_df"
   ]
  },
  {
   "cell_type": "code",
   "execution_count": 3,
   "id": "4f69505ece73dc86",
   "metadata": {
    "ExecuteTime": {
     "end_time": "2025-05-15T14:52:13.091828Z",
     "start_time": "2025-05-15T14:52:13.084946Z"
    }
   },
   "outputs": [
    {
     "data": {
      "application/vnd.microsoft.datawrangler.viewer.v0+json": {
       "columns": [
        {
         "name": "index",
         "rawType": "int64",
         "type": "integer"
        },
        {
         "name": "IMG_FILE",
         "rawType": "object",
         "type": "string"
        },
        {
         "name": "LAT",
         "rawType": "float64",
         "type": "float"
        },
        {
         "name": "LON",
         "rawType": "float64",
         "type": "float"
        }
       ],
       "ref": "d8a96822-2e9b-403a-bd5e-c8449ebd0399",
       "rows": [
        [
         "0",
         "Palatul_Parlamentului_coord_0_h222.jpg",
         "44.4301407",
         "26.0910817"
        ],
        [
         "1",
         "Palatul_Parlamentului_coord_1_h223.jpg",
         "44.43005082583934",
         "26.091075267426337"
        ],
        [
         "2",
         "Palatul_Parlamentului_coord_2_h224.jpg",
         "44.42996095167689",
         "26.091068834872388"
        ],
        [
         "3",
         "Palatul_Parlamentului_coord_3_h225.jpg",
         "44.42987106230871",
         "26.09106337924066"
        ],
        [
         "4",
         "Palatul_Parlamentului_coord_4_h226.jpg",
         "44.429781192285226",
         "26.09105774843599"
        ],
        [
         "5",
         "Palatul_Parlamentului_coord_5_h227.jpg",
         "44.429691357776335",
         "26.09105031490841"
        ],
        [
         "6",
         "Palatul_Parlamentului_coord_6_h228.jpg",
         "44.42960152326556",
         "26.09104288140361"
        ],
        [
         "7",
         "Palatul_Parlamentului_coord_7_h229.jpg",
         "44.42951168875288",
         "26.091035447921577"
        ],
        [
         "8",
         "Palatul_Parlamentului_coord_8_h231.jpg",
         "44.42942185423828",
         "26.09102801446232"
        ],
        [
         "9",
         "Palatul_Parlamentului_coord_9_h232.jpg",
         "44.429331997527264",
         "26.09102116582298"
        ],
        [
         "10",
         "Palatul_Parlamentului_coord_10_h233.jpg",
         "44.429242113154",
         "26.091015017159563"
        ],
        [
         "11",
         "Palatul_Parlamentului_coord_11_h235.jpg",
         "44.429152228779",
         "26.091008868515"
        ],
        [
         "12",
         "Palatul_Parlamentului_coord_12_h236.jpg",
         "44.42906234440224",
         "26.091002719889275"
        ],
        [
         "13",
         "Palatul_Parlamentului_coord_13_h238.jpg",
         "44.42897246002372",
         "26.0909965712824"
        ],
        [
         "14",
         "Palatul_Parlamentului_coord_14_h240.jpg",
         "44.428882575643456",
         "26.09099042269437"
        ],
        [
         "15",
         "Palatul_Parlamentului_coord_15_h241.jpg",
         "44.42879269126144",
         "26.090984274125187"
        ],
        [
         "16",
         "Palatul_Parlamentului_coord_16_h243.jpg",
         "44.42870280687767",
         "26.09097812557485"
        ],
        [
         "17",
         "Palatul_Parlamentului_coord_17_h245.jpg",
         "44.42861292249214",
         "26.09097197704336"
        ],
        [
         "18",
         "Palatul_Parlamentului_coord_18_h247.jpg",
         "44.42852303810487",
         "26.090965828530717"
        ],
        [
         "19",
         "Palatul_Parlamentului_coord_19_h249.jpg",
         "44.4284331658691",
         "26.09095933669192"
        ],
        [
         "20",
         "Palatul_Parlamentului_coord_20_h327.jpg",
         "44.4245676",
         "26.0905925"
        ],
        [
         "21",
         "Palatul_Parlamentului_coord_21_h328.jpg",
         "44.42457523394756",
         "26.090467375026915"
        ],
        [
         "22",
         "Palatul_Parlamentului_coord_22_h329.jpg",
         "44.424582867758026",
         "26.090342250021266"
        ],
        [
         "23",
         "Palatul_Parlamentului_coord_23_h331.jpg",
         "44.42459050143143",
         "26.09021712498305"
        ],
        [
         "24",
         "Palatul_Parlamentului_coord_24_h332.jpg",
         "44.42459805868951",
         "26.09009199086759"
        ],
        [
         "25",
         "Palatul_Parlamentului_coord_25_h333.jpg",
         "44.42460569729182",
         "26.08996686638269"
        ],
        [
         "26",
         "Palatul_Parlamentului_coord_26_h334.jpg",
         "44.42461328171978",
         "26.089841735454247"
        ],
        [
         "27",
         "Palatul_Parlamentului_coord_27_h336.jpg",
         "44.4246209289672",
         "26.08971661196513"
        ],
        [
         "28",
         "Palatul_Parlamentului_coord_28_h337.jpg",
         "44.424628576077545",
         "26.089591488443396"
        ],
        [
         "29",
         "Palatul_Parlamentului_coord_29_h339.jpg",
         "44.42463622305081",
         "26.089466364889034"
        ],
        [
         "30",
         "Palatul_Parlamentului_coord_30_h340.jpg",
         "44.424643869887",
         "26.089341241302048"
        ],
        [
         "31",
         "Palatul_Parlamentului_coord_31_h342.jpg",
         "44.42465151658613",
         "26.08921611768244"
        ],
        [
         "32",
         "Palatul_Parlamentului_coord_32_h343.jpg",
         "44.42465916314816",
         "26.08909099403021"
        ],
        [
         "33",
         "Palatul_Parlamentului_coord_33_h345.jpg",
         "44.424666809573125",
         "26.08896587034537"
        ],
        [
         "34",
         "Palatul_Parlamentului_coord_34_h346.jpg",
         "44.424674455861016",
         "26.08884074662789"
        ],
        [
         "35",
         "Palatul_Parlamentului_coord_35_h348.jpg",
         "44.42468185639935",
         "26.08871559370211"
        ],
        [
         "36",
         "Palatul_Parlamentului_coord_36_h350.jpg",
         "44.42468949911997",
         "26.088590469528167"
        ],
        [
         "37",
         "Palatul_Parlamentului_coord_37_h351.jpg",
         "44.42469714170351",
         "26.088465345321616"
        ],
        [
         "38",
         "Palatul_Parlamentului_coord_38_h353.jpg",
         "44.42470478414997",
         "26.088340221082465"
        ],
        [
         "39",
         "Palatul_Parlamentului_coord_39_h355.jpg",
         "44.42471242645935",
         "26.08821509681071"
        ],
        [
         "40",
         "Palatul_Parlamentului_coord_40_h356.jpg",
         "44.42472006863165",
         "26.08808997250635"
        ],
        [
         "41",
         "Palatul_Parlamentului_coord_41_h358.jpg",
         "44.42472771066688",
         "26.08796484816939"
        ],
        [
         "42",
         "Palatul_Parlamentului_coord_42_h0.jpg",
         "44.42473535256503",
         "26.087839723799824"
        ],
        [
         "43",
         "Palatul_Parlamentului_coord_43_h2.jpg",
         "44.4247429943261",
         "26.08771459939766"
        ],
        [
         "44",
         "Palatul_Parlamentului_coord_44_h4.jpg",
         "44.42475063595008",
         "26.087589474962897"
        ],
        [
         "45",
         "Palatul_Parlamentului_coord_45_h5.jpg",
         "44.42475827743701",
         "26.08746435049553"
        ],
        [
         "46",
         "Palatul_Parlamentului_coord_46_h7.jpg",
         "44.424765918786846",
         "26.087339225995564"
        ],
        [
         "47",
         "Palatul_Parlamentului_coord_47_h9.jpg",
         "44.42477355999961",
         "26.087214101463"
        ],
        [
         "48",
         "Palatul_Parlamentului_coord_48_h11.jpg",
         "44.42478099590919",
         "26.087088952733247"
        ],
        [
         "49",
         "Palatul_Parlamentului_coord_49_h13.jpg",
         "44.42478866846712",
         "26.08696383193097"
        ]
       ],
       "shape": {
        "columns": 3,
        "rows": 2981
       }
      },
      "text/html": [
       "<div>\n",
       "<style scoped>\n",
       "    .dataframe tbody tr th:only-of-type {\n",
       "        vertical-align: middle;\n",
       "    }\n",
       "\n",
       "    .dataframe tbody tr th {\n",
       "        vertical-align: top;\n",
       "    }\n",
       "\n",
       "    .dataframe thead th {\n",
       "        text-align: right;\n",
       "    }\n",
       "</style>\n",
       "<table border=\"1\" class=\"dataframe\">\n",
       "  <thead>\n",
       "    <tr style=\"text-align: right;\">\n",
       "      <th></th>\n",
       "      <th>IMG_FILE</th>\n",
       "      <th>LAT</th>\n",
       "      <th>LON</th>\n",
       "    </tr>\n",
       "  </thead>\n",
       "  <tbody>\n",
       "    <tr>\n",
       "      <th>0</th>\n",
       "      <td>Palatul_Parlamentului_coord_0_h222.jpg</td>\n",
       "      <td>44.430141</td>\n",
       "      <td>26.091082</td>\n",
       "    </tr>\n",
       "    <tr>\n",
       "      <th>1</th>\n",
       "      <td>Palatul_Parlamentului_coord_1_h223.jpg</td>\n",
       "      <td>44.430051</td>\n",
       "      <td>26.091075</td>\n",
       "    </tr>\n",
       "    <tr>\n",
       "      <th>2</th>\n",
       "      <td>Palatul_Parlamentului_coord_2_h224.jpg</td>\n",
       "      <td>44.429961</td>\n",
       "      <td>26.091069</td>\n",
       "    </tr>\n",
       "    <tr>\n",
       "      <th>3</th>\n",
       "      <td>Palatul_Parlamentului_coord_3_h225.jpg</td>\n",
       "      <td>44.429871</td>\n",
       "      <td>26.091063</td>\n",
       "    </tr>\n",
       "    <tr>\n",
       "      <th>4</th>\n",
       "      <td>Palatul_Parlamentului_coord_4_h226.jpg</td>\n",
       "      <td>44.429781</td>\n",
       "      <td>26.091058</td>\n",
       "    </tr>\n",
       "    <tr>\n",
       "      <th>...</th>\n",
       "      <td>...</td>\n",
       "      <td>...</td>\n",
       "      <td>...</td>\n",
       "    </tr>\n",
       "    <tr>\n",
       "      <th>2976</th>\n",
       "      <td>Spitalul_Universitar_de_Urgenta_coord_175_h290...</td>\n",
       "      <td>44.435420</td>\n",
       "      <td>26.074217</td>\n",
       "    </tr>\n",
       "    <tr>\n",
       "      <th>2977</th>\n",
       "      <td>Spitalul_Universitar_de_Urgenta_coord_176_h288...</td>\n",
       "      <td>44.435484</td>\n",
       "      <td>26.074305</td>\n",
       "    </tr>\n",
       "    <tr>\n",
       "      <th>2978</th>\n",
       "      <td>Spitalul_Universitar_de_Urgenta_coord_177_h285...</td>\n",
       "      <td>44.435549</td>\n",
       "      <td>26.074392</td>\n",
       "    </tr>\n",
       "    <tr>\n",
       "      <th>2979</th>\n",
       "      <td>Spitalul_Universitar_de_Urgenta_coord_178_h283...</td>\n",
       "      <td>44.435613</td>\n",
       "      <td>26.074480</td>\n",
       "    </tr>\n",
       "    <tr>\n",
       "      <th>2980</th>\n",
       "      <td>Spitalul_Universitar_de_Urgenta_coord_179_h281...</td>\n",
       "      <td>44.435678</td>\n",
       "      <td>26.074567</td>\n",
       "    </tr>\n",
       "  </tbody>\n",
       "</table>\n",
       "<p>2981 rows × 3 columns</p>\n",
       "</div>"
      ],
      "text/plain": [
       "                                               IMG_FILE        LAT        LON\n",
       "0                Palatul_Parlamentului_coord_0_h222.jpg  44.430141  26.091082\n",
       "1                Palatul_Parlamentului_coord_1_h223.jpg  44.430051  26.091075\n",
       "2                Palatul_Parlamentului_coord_2_h224.jpg  44.429961  26.091069\n",
       "3                Palatul_Parlamentului_coord_3_h225.jpg  44.429871  26.091063\n",
       "4                Palatul_Parlamentului_coord_4_h226.jpg  44.429781  26.091058\n",
       "...                                                 ...        ...        ...\n",
       "2976  Spitalul_Universitar_de_Urgenta_coord_175_h290...  44.435420  26.074217\n",
       "2977  Spitalul_Universitar_de_Urgenta_coord_176_h288...  44.435484  26.074305\n",
       "2978  Spitalul_Universitar_de_Urgenta_coord_177_h285...  44.435549  26.074392\n",
       "2979  Spitalul_Universitar_de_Urgenta_coord_178_h283...  44.435613  26.074480\n",
       "2980  Spitalul_Universitar_de_Urgenta_coord_179_h281...  44.435678  26.074567\n",
       "\n",
       "[2981 rows x 3 columns]"
      ]
     },
     "execution_count": 3,
     "metadata": {},
     "output_type": "execute_result"
    }
   ],
   "source": [
    "csv_df['IMG_FILE'] = csv_df['IMG_FILE'].apply(os.path.basename)\n",
    "csv_df"
   ]
  },
  {
   "cell_type": "code",
   "execution_count": 4,
   "id": "438dbdb9d0953cd3",
   "metadata": {
    "ExecuteTime": {
     "end_time": "2025-05-15T14:52:28.381734Z",
     "start_time": "2025-05-15T14:52:28.376943Z"
    }
   },
   "outputs": [],
   "source": [
    "csv_df.to_csv(CSV_FILE, index=False)"
   ]
  }
 ],
 "metadata": {
  "kernelspec": {
   "display_name": ".venv",
   "language": "python",
   "name": "python3"
  },
  "language_info": {
   "codemirror_mode": {
    "name": "ipython",
    "version": 3
   },
   "file_extension": ".py",
   "mimetype": "text/x-python",
   "name": "python",
   "nbconvert_exporter": "python",
   "pygments_lexer": "ipython3",
   "version": "3.13.0"
  }
 },
 "nbformat": 4,
 "nbformat_minor": 5
}
