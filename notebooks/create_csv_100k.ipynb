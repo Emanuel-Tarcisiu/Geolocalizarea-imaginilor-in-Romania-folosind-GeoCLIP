{
 "cells": [
  {
   "cell_type": "code",
   "execution_count": 1,
   "id": "initial_id",
   "metadata": {
    "ExecuteTime": {
     "end_time": "2025-05-15T14:41:44.434020Z",
     "start_time": "2025-05-15T14:41:43.945814Z"
    },
    "collapsed": true
   },
   "outputs": [],
   "source": [
    "import pandas as pd"
   ]
  },
  {
   "cell_type": "code",
   "execution_count": 2,
   "id": "317e1c4b2db51228",
   "metadata": {
    "ExecuteTime": {
     "end_time": "2025-05-15T14:41:46.815004Z",
     "start_time": "2025-05-15T14:41:46.787899Z"
    }
   },
   "outputs": [],
   "source": [
    "coord_csv = pd.read_csv('coordinates_100K.csv')\n",
    "landmarks_csv = pd.read_csv('landmarks_antrenare_mare.csv')"
   ]
  },
  {
   "cell_type": "code",
   "execution_count": 3,
   "id": "376cb834cf29b83e",
   "metadata": {
    "ExecuteTime": {
     "end_time": "2025-05-15T14:41:58.560081Z",
     "start_time": "2025-05-15T14:41:58.557372Z"
    }
   },
   "outputs": [
    {
     "name": "stdout",
     "output_type": "stream",
     "text": [
      "Index(['LAT', 'LON'], dtype='object')\n",
      "Index(['IMG_FILE', 'LAT', 'LON'], dtype='object')\n"
     ]
    }
   ],
   "source": [
    "print(coord_csv.columns)\n",
    "print(landmarks_csv.columns)"
   ]
  },
  {
   "cell_type": "code",
   "execution_count": 4,
   "id": "56c9f6d81b546c64",
   "metadata": {
    "ExecuteTime": {
     "end_time": "2025-05-15T14:42:01.997712Z",
     "start_time": "2025-05-15T14:42:01.986362Z"
    }
   },
   "outputs": [
    {
     "data": {
      "application/vnd.microsoft.datawrangler.viewer.v0+json": {
       "columns": [
        {
         "name": "index",
         "rawType": "int64",
         "type": "integer"
        },
        {
         "name": "IMG_FILE",
         "rawType": "object",
         "type": "string"
        },
        {
         "name": "LAT",
         "rawType": "float64",
         "type": "float"
        },
        {
         "name": "LON",
         "rawType": "float64",
         "type": "float"
        }
       ],
       "ref": "54ee9b03-f40c-4cac-892c-cdd5b5e1402a",
       "rows": [
        [
         "0",
         "Palatul_Parlamentului_0_mapillary_0.jpg",
         "44.42786487037",
         "26.087499580581"
        ],
        [
         "1",
         "Palatul_Parlamentului_0_mapillary_1.jpg",
         "44.427832241972",
         "26.087470436789"
        ],
        [
         "2",
         "Palatul_Parlamentului_0_mapillary_2.jpg",
         "44.427690443273",
         "26.087413021185"
        ],
        [
         "3",
         "Palatul_Parlamentului_0_mapillary_3.jpg",
         "44.42786771417",
         "26.087491202632"
        ],
        [
         "4",
         "Palatul_Parlamentului_0_mapillary_4.jpg",
         "44.427914551591",
         "26.08749294918"
        ],
        [
         "5",
         "Palatul_Parlamentului_0_mapillary_5.jpg",
         "44.427749392",
         "26.0874167715"
        ],
        [
         "6",
         "Palatul_Parlamentului_0_mapillary_6.jpg",
         "44.427660621245",
         "26.087474035474"
        ],
        [
         "7",
         "Palatul_Parlamentului_0_mapillary_7.jpg",
         "44.427730044694",
         "26.087543856327"
        ],
        [
         "8",
         "Palatul_Parlamentului_0_mapillary_8.jpg",
         "44.427865276331",
         "26.087496038462"
        ],
        [
         "9",
         "Palatul_Parlamentului_0_mapillary_9.jpg",
         "44.427886868071",
         "26.087509495984"
        ]
       ],
       "shape": {
        "columns": 3,
        "rows": 10
       }
      },
      "text/html": [
       "<div>\n",
       "<style scoped>\n",
       "    .dataframe tbody tr th:only-of-type {\n",
       "        vertical-align: middle;\n",
       "    }\n",
       "\n",
       "    .dataframe tbody tr th {\n",
       "        vertical-align: top;\n",
       "    }\n",
       "\n",
       "    .dataframe thead th {\n",
       "        text-align: right;\n",
       "    }\n",
       "</style>\n",
       "<table border=\"1\" class=\"dataframe\">\n",
       "  <thead>\n",
       "    <tr style=\"text-align: right;\">\n",
       "      <th></th>\n",
       "      <th>IMG_FILE</th>\n",
       "      <th>LAT</th>\n",
       "      <th>LON</th>\n",
       "    </tr>\n",
       "  </thead>\n",
       "  <tbody>\n",
       "    <tr>\n",
       "      <th>0</th>\n",
       "      <td>Palatul_Parlamentului_0_mapillary_0.jpg</td>\n",
       "      <td>44.427865</td>\n",
       "      <td>26.087500</td>\n",
       "    </tr>\n",
       "    <tr>\n",
       "      <th>1</th>\n",
       "      <td>Palatul_Parlamentului_0_mapillary_1.jpg</td>\n",
       "      <td>44.427832</td>\n",
       "      <td>26.087470</td>\n",
       "    </tr>\n",
       "    <tr>\n",
       "      <th>2</th>\n",
       "      <td>Palatul_Parlamentului_0_mapillary_2.jpg</td>\n",
       "      <td>44.427690</td>\n",
       "      <td>26.087413</td>\n",
       "    </tr>\n",
       "    <tr>\n",
       "      <th>3</th>\n",
       "      <td>Palatul_Parlamentului_0_mapillary_3.jpg</td>\n",
       "      <td>44.427868</td>\n",
       "      <td>26.087491</td>\n",
       "    </tr>\n",
       "    <tr>\n",
       "      <th>4</th>\n",
       "      <td>Palatul_Parlamentului_0_mapillary_4.jpg</td>\n",
       "      <td>44.427915</td>\n",
       "      <td>26.087493</td>\n",
       "    </tr>\n",
       "    <tr>\n",
       "      <th>5</th>\n",
       "      <td>Palatul_Parlamentului_0_mapillary_5.jpg</td>\n",
       "      <td>44.427749</td>\n",
       "      <td>26.087417</td>\n",
       "    </tr>\n",
       "    <tr>\n",
       "      <th>6</th>\n",
       "      <td>Palatul_Parlamentului_0_mapillary_6.jpg</td>\n",
       "      <td>44.427661</td>\n",
       "      <td>26.087474</td>\n",
       "    </tr>\n",
       "    <tr>\n",
       "      <th>7</th>\n",
       "      <td>Palatul_Parlamentului_0_mapillary_7.jpg</td>\n",
       "      <td>44.427730</td>\n",
       "      <td>26.087544</td>\n",
       "    </tr>\n",
       "    <tr>\n",
       "      <th>8</th>\n",
       "      <td>Palatul_Parlamentului_0_mapillary_8.jpg</td>\n",
       "      <td>44.427865</td>\n",
       "      <td>26.087496</td>\n",
       "    </tr>\n",
       "    <tr>\n",
       "      <th>9</th>\n",
       "      <td>Palatul_Parlamentului_0_mapillary_9.jpg</td>\n",
       "      <td>44.427887</td>\n",
       "      <td>26.087509</td>\n",
       "    </tr>\n",
       "  </tbody>\n",
       "</table>\n",
       "</div>"
      ],
      "text/plain": [
       "                                  IMG_FILE        LAT        LON\n",
       "0  Palatul_Parlamentului_0_mapillary_0.jpg  44.427865  26.087500\n",
       "1  Palatul_Parlamentului_0_mapillary_1.jpg  44.427832  26.087470\n",
       "2  Palatul_Parlamentului_0_mapillary_2.jpg  44.427690  26.087413\n",
       "3  Palatul_Parlamentului_0_mapillary_3.jpg  44.427868  26.087491\n",
       "4  Palatul_Parlamentului_0_mapillary_4.jpg  44.427915  26.087493\n",
       "5  Palatul_Parlamentului_0_mapillary_5.jpg  44.427749  26.087417\n",
       "6  Palatul_Parlamentului_0_mapillary_6.jpg  44.427661  26.087474\n",
       "7  Palatul_Parlamentului_0_mapillary_7.jpg  44.427730  26.087544\n",
       "8  Palatul_Parlamentului_0_mapillary_8.jpg  44.427865  26.087496\n",
       "9  Palatul_Parlamentului_0_mapillary_9.jpg  44.427887  26.087509"
      ]
     },
     "execution_count": 4,
     "metadata": {},
     "output_type": "execute_result"
    }
   ],
   "source": [
    "landmarks_subset = landmarks_csv.drop_duplicates(['LAT', 'LON'])\n",
    "landmarks_subset.head(10)"
   ]
  },
  {
   "cell_type": "code",
   "execution_count": 5,
   "id": "83b0913fb7799d2d",
   "metadata": {
    "ExecuteTime": {
     "end_time": "2025-05-15T14:42:56.559710Z",
     "start_time": "2025-05-15T14:42:56.554438Z"
    }
   },
   "outputs": [
    {
     "data": {
      "application/vnd.microsoft.datawrangler.viewer.v0+json": {
       "columns": [
        {
         "name": "index",
         "rawType": "int64",
         "type": "integer"
        },
        {
         "name": "LAT",
         "rawType": "float64",
         "type": "float"
        },
        {
         "name": "LON",
         "rawType": "float64",
         "type": "float"
        }
       ],
       "ref": "3d848b4b-afa8-434d-a075-a5ac1bf2899f",
       "rows": [
        [
         "0",
         "44.42786487037",
         "26.087499580581"
        ],
        [
         "1",
         "44.427832241972",
         "26.087470436789"
        ],
        [
         "2",
         "44.427690443273",
         "26.087413021185"
        ],
        [
         "3",
         "44.42786771417",
         "26.087491202632"
        ],
        [
         "4",
         "44.427914551591",
         "26.08749294918"
        ],
        [
         "5",
         "44.427749392",
         "26.0874167715"
        ],
        [
         "6",
         "44.427660621245",
         "26.087474035474"
        ],
        [
         "7",
         "44.427730044694",
         "26.087543856327"
        ],
        [
         "8",
         "44.427865276331",
         "26.087496038462"
        ],
        [
         "9",
         "44.427886868071",
         "26.087509495984"
        ]
       ],
       "shape": {
        "columns": 2,
        "rows": 10
       }
      },
      "text/html": [
       "<div>\n",
       "<style scoped>\n",
       "    .dataframe tbody tr th:only-of-type {\n",
       "        vertical-align: middle;\n",
       "    }\n",
       "\n",
       "    .dataframe tbody tr th {\n",
       "        vertical-align: top;\n",
       "    }\n",
       "\n",
       "    .dataframe thead th {\n",
       "        text-align: right;\n",
       "    }\n",
       "</style>\n",
       "<table border=\"1\" class=\"dataframe\">\n",
       "  <thead>\n",
       "    <tr style=\"text-align: right;\">\n",
       "      <th></th>\n",
       "      <th>LAT</th>\n",
       "      <th>LON</th>\n",
       "    </tr>\n",
       "  </thead>\n",
       "  <tbody>\n",
       "    <tr>\n",
       "      <th>0</th>\n",
       "      <td>44.427865</td>\n",
       "      <td>26.087500</td>\n",
       "    </tr>\n",
       "    <tr>\n",
       "      <th>1</th>\n",
       "      <td>44.427832</td>\n",
       "      <td>26.087470</td>\n",
       "    </tr>\n",
       "    <tr>\n",
       "      <th>2</th>\n",
       "      <td>44.427690</td>\n",
       "      <td>26.087413</td>\n",
       "    </tr>\n",
       "    <tr>\n",
       "      <th>3</th>\n",
       "      <td>44.427868</td>\n",
       "      <td>26.087491</td>\n",
       "    </tr>\n",
       "    <tr>\n",
       "      <th>4</th>\n",
       "      <td>44.427915</td>\n",
       "      <td>26.087493</td>\n",
       "    </tr>\n",
       "    <tr>\n",
       "      <th>5</th>\n",
       "      <td>44.427749</td>\n",
       "      <td>26.087417</td>\n",
       "    </tr>\n",
       "    <tr>\n",
       "      <th>6</th>\n",
       "      <td>44.427661</td>\n",
       "      <td>26.087474</td>\n",
       "    </tr>\n",
       "    <tr>\n",
       "      <th>7</th>\n",
       "      <td>44.427730</td>\n",
       "      <td>26.087544</td>\n",
       "    </tr>\n",
       "    <tr>\n",
       "      <th>8</th>\n",
       "      <td>44.427865</td>\n",
       "      <td>26.087496</td>\n",
       "    </tr>\n",
       "    <tr>\n",
       "      <th>9</th>\n",
       "      <td>44.427887</td>\n",
       "      <td>26.087509</td>\n",
       "    </tr>\n",
       "  </tbody>\n",
       "</table>\n",
       "</div>"
      ],
      "text/plain": [
       "         LAT        LON\n",
       "0  44.427865  26.087500\n",
       "1  44.427832  26.087470\n",
       "2  44.427690  26.087413\n",
       "3  44.427868  26.087491\n",
       "4  44.427915  26.087493\n",
       "5  44.427749  26.087417\n",
       "6  44.427661  26.087474\n",
       "7  44.427730  26.087544\n",
       "8  44.427865  26.087496\n",
       "9  44.427887  26.087509"
      ]
     },
     "execution_count": 5,
     "metadata": {},
     "output_type": "execute_result"
    }
   ],
   "source": [
    "lm_data = landmarks_subset[['LAT', 'LON']]\n",
    "lm_data.head(10)"
   ]
  },
  {
   "cell_type": "code",
   "execution_count": null,
   "id": "a2bec8f7",
   "metadata": {},
   "outputs": [],
   "source": [
    "# lm_data.to_csv('coordinates_100K.csv', index=False)"
   ]
  },
  {
   "cell_type": "code",
   "execution_count": 6,
   "id": "5cff31d20454bd98",
   "metadata": {
    "ExecuteTime": {
     "end_time": "2025-05-15T14:43:06.344192Z",
     "start_time": "2025-05-15T14:43:06.336331Z"
    }
   },
   "outputs": [],
   "source": [
    "new_df = pd.concat([coord_csv, lm_data], ignore_index=True)"
   ]
  },
  {
   "cell_type": "code",
   "execution_count": 7,
   "id": "b1daa08370b3c024",
   "metadata": {
    "ExecuteTime": {
     "end_time": "2025-05-15T14:43:15.571676Z",
     "start_time": "2025-05-15T14:43:15.565911Z"
    }
   },
   "outputs": [
    {
     "name": "stdout",
     "output_type": "stream",
     "text": [
      "         LAT         LON\n",
      "0 -50.943392  -72.935664\n",
      "1  34.201047 -118.599931\n",
      "2  48.839963   -3.504874\n",
      "3  38.942855 -119.975852\n",
      "4  19.412728  -99.168949\n",
      "5  25.232118   55.264320\n",
      "6  18.491493  -69.958856\n",
      "7  25.615366 -100.349621\n",
      "8  51.448283   -1.008425\n",
      "9  45.431708   12.330093\n",
      "         LAT         LON\n",
      "0 -50.943392  -72.935664\n",
      "1  34.201047 -118.599931\n",
      "2  48.839963   -3.504874\n",
      "3  38.942855 -119.975852\n",
      "4  19.412728  -99.168949\n",
      "5  25.232118   55.264320\n",
      "6  18.491493  -69.958856\n",
      "7  25.615366 -100.349621\n",
      "8  51.448283   -1.008425\n",
      "9  45.431708   12.330093\n"
     ]
    }
   ],
   "source": [
    "print(new_df.head(10))\n",
    "print(coord_csv.head(10))"
   ]
  },
  {
   "cell_type": "code",
   "execution_count": 8,
   "id": "4d5778fbd7e9b19a",
   "metadata": {
    "ExecuteTime": {
     "end_time": "2025-05-15T14:43:27.828150Z",
     "start_time": "2025-05-15T14:43:27.823199Z"
    }
   },
   "outputs": [
    {
     "name": "stdout",
     "output_type": "stream",
     "text": [
      "              LAT        LON\n",
      "109154  44.427295  26.112043\n",
      "109155  44.426793  26.104061\n",
      "109156  44.426975  26.112007\n",
      "109157  44.426532  26.109826\n",
      "109158  44.427154  26.112028\n",
      "109159  44.426334  26.110767\n",
      "109160  44.426357  26.110266\n",
      "109161  44.427475  26.112060\n",
      "109162  44.426312  26.111268\n",
      "109163  44.426367  26.110015\n",
      "             LAT        LON\n",
      "11972  44.427295  26.112043\n",
      "11981  44.426793  26.104061\n",
      "11984  44.426975  26.112007\n",
      "11985  44.426532  26.109826\n",
      "11996  44.427154  26.112028\n",
      "12002  44.426334  26.110767\n",
      "12003  44.426357  26.110266\n",
      "12008  44.427475  26.112060\n",
      "12013  44.426312  26.111268\n",
      "12015  44.426367  26.110015\n"
     ]
    }
   ],
   "source": [
    "print(new_df.tail(10))\n",
    "print(lm_data.tail(10))"
   ]
  },
  {
   "cell_type": "code",
   "execution_count": 9,
   "id": "87a17bce",
   "metadata": {},
   "outputs": [
    {
     "data": {
      "text/plain": [
       "(109164, 2)"
      ]
     },
     "execution_count": 9,
     "metadata": {},
     "output_type": "execute_result"
    }
   ],
   "source": [
    "new_df.shape"
   ]
  },
  {
   "cell_type": "code",
   "execution_count": 10,
   "id": "22c4ab60",
   "metadata": {},
   "outputs": [
    {
     "data": {
      "text/plain": [
       "(109164, 2)"
      ]
     },
     "execution_count": 10,
     "metadata": {},
     "output_type": "execute_result"
    }
   ],
   "source": [
    "new_df.drop_duplicates()\n",
    "new_df.shape"
   ]
  },
  {
   "cell_type": "code",
   "execution_count": 11,
   "id": "126419ef7e76311d",
   "metadata": {
    "ExecuteTime": {
     "end_time": "2025-05-15T14:43:46.508041Z",
     "start_time": "2025-05-15T14:43:46.396188Z"
    }
   },
   "outputs": [],
   "source": [
    "new_df.to_csv('coordinates_100K.csv', index=False)"
   ]
  }
 ],
 "metadata": {
  "kernelspec": {
   "display_name": ".venv",
   "language": "python",
   "name": "python3"
  },
  "language_info": {
   "codemirror_mode": {
    "name": "ipython",
    "version": 3
   },
   "file_extension": ".py",
   "mimetype": "text/x-python",
   "name": "python",
   "nbconvert_exporter": "python",
   "pygments_lexer": "ipython3",
   "version": "3.13.0"
  }
 },
 "nbformat": 4,
 "nbformat_minor": 5
}
