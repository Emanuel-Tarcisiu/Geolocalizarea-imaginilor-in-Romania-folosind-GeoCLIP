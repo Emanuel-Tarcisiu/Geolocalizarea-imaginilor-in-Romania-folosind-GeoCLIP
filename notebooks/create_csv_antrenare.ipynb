{
 "cells": [
  {
   "cell_type": "code",
   "execution_count": 1,
   "id": "f39eca4f",
   "metadata": {},
   "outputs": [],
   "source": [
    "import pandas as pd\n",
    "import os"
   ]
  },
  {
   "cell_type": "code",
   "execution_count": 2,
   "id": "19ed4830",
   "metadata": {},
   "outputs": [],
   "source": [
    "# mapillary_dir = 'imagini_mapillary_json'\n",
    "base_csv = '_landmarks_antrenare_mare.csv'\n",
    "\n",
    "# streetview_dir = 'imagini_street_view'\n",
    "new_entries_csv = 'train_dataset.csv'"
   ]
  },
  {
   "cell_type": "code",
   "execution_count": null,
   "id": "98aafeb1",
   "metadata": {},
   "outputs": [],
   "source": [
    "def rm_space(df):\n",
    "    df['IMG_FILE'] = df['IMG_FILE'].apply(lambda x: x.replace(' ', '_'))\n",
    "    return df"
   ]
  },
  {
   "cell_type": "code",
   "execution_count": null,
   "id": "ce3b5788",
   "metadata": {},
   "outputs": [],
   "source": [
    "def add_dir(df, base_dir):\n",
    "    df['IMG_FILE'] = df['IMG_FILE'].apply(lambda x: os.path.join(base_dir, x))\n",
    "\n",
    "    return df"
   ]
  },
  {
   "cell_type": "code",
   "execution_count": 3,
   "id": "879b2909",
   "metadata": {},
   "outputs": [],
   "source": [
    "base_df = pd.read_csv(base_csv)\n",
    "new_entries_df = pd.read_csv(new_entries_csv)"
   ]
  },
  {
   "cell_type": "code",
   "execution_count": null,
   "id": "9c582477",
   "metadata": {},
   "outputs": [],
   "source": [
    "# base_df = rm_space(base_df)\n",
    "# base_df = add_dir(base_df, mapillary_dir)\n",
    "# new_entries_df = add_dir(new_entries_df, streetview_dir)"
   ]
  },
  {
   "cell_type": "code",
   "execution_count": 4,
   "id": "5cac167a",
   "metadata": {},
   "outputs": [
    {
     "data": {
      "application/vnd.microsoft.datawrangler.viewer.v0+json": {
       "columns": [
        {
         "name": "index",
         "rawType": "int64",
         "type": "integer"
        },
        {
         "name": "IMG_FILE",
         "rawType": "object",
         "type": "string"
        },
        {
         "name": "LAT",
         "rawType": "float64",
         "type": "float"
        },
        {
         "name": "LON",
         "rawType": "float64",
         "type": "float"
        }
       ],
       "ref": "ae900db1-0bcc-4a7d-b8be-faa6567233e3",
       "rows": [
        [
         "0",
         "Palatul_Parlamentului_0_mapillary_0.jpg",
         "44.42786487037",
         "26.087499580581"
        ],
        [
         "1",
         "Palatul_Parlamentului_0_mapillary_1.jpg",
         "44.427832241972",
         "26.087470436789"
        ],
        [
         "2",
         "Palatul_Parlamentului_0_mapillary_2.jpg",
         "44.427690443273",
         "26.087413021185"
        ],
        [
         "3",
         "Palatul_Parlamentului_0_mapillary_3.jpg",
         "44.42786771417",
         "26.087491202632"
        ],
        [
         "4",
         "Palatul_Parlamentului_0_mapillary_4.jpg",
         "44.427914551591",
         "26.08749294918"
        ]
       ],
       "shape": {
        "columns": 3,
        "rows": 5
       }
      },
      "text/html": [
       "<div>\n",
       "<style scoped>\n",
       "    .dataframe tbody tr th:only-of-type {\n",
       "        vertical-align: middle;\n",
       "    }\n",
       "\n",
       "    .dataframe tbody tr th {\n",
       "        vertical-align: top;\n",
       "    }\n",
       "\n",
       "    .dataframe thead th {\n",
       "        text-align: right;\n",
       "    }\n",
       "</style>\n",
       "<table border=\"1\" class=\"dataframe\">\n",
       "  <thead>\n",
       "    <tr style=\"text-align: right;\">\n",
       "      <th></th>\n",
       "      <th>IMG_FILE</th>\n",
       "      <th>LAT</th>\n",
       "      <th>LON</th>\n",
       "    </tr>\n",
       "  </thead>\n",
       "  <tbody>\n",
       "    <tr>\n",
       "      <th>0</th>\n",
       "      <td>Palatul_Parlamentului_0_mapillary_0.jpg</td>\n",
       "      <td>44.427865</td>\n",
       "      <td>26.087500</td>\n",
       "    </tr>\n",
       "    <tr>\n",
       "      <th>1</th>\n",
       "      <td>Palatul_Parlamentului_0_mapillary_1.jpg</td>\n",
       "      <td>44.427832</td>\n",
       "      <td>26.087470</td>\n",
       "    </tr>\n",
       "    <tr>\n",
       "      <th>2</th>\n",
       "      <td>Palatul_Parlamentului_0_mapillary_2.jpg</td>\n",
       "      <td>44.427690</td>\n",
       "      <td>26.087413</td>\n",
       "    </tr>\n",
       "    <tr>\n",
       "      <th>3</th>\n",
       "      <td>Palatul_Parlamentului_0_mapillary_3.jpg</td>\n",
       "      <td>44.427868</td>\n",
       "      <td>26.087491</td>\n",
       "    </tr>\n",
       "    <tr>\n",
       "      <th>4</th>\n",
       "      <td>Palatul_Parlamentului_0_mapillary_4.jpg</td>\n",
       "      <td>44.427915</td>\n",
       "      <td>26.087493</td>\n",
       "    </tr>\n",
       "  </tbody>\n",
       "</table>\n",
       "</div>"
      ],
      "text/plain": [
       "                                  IMG_FILE        LAT        LON\n",
       "0  Palatul_Parlamentului_0_mapillary_0.jpg  44.427865  26.087500\n",
       "1  Palatul_Parlamentului_0_mapillary_1.jpg  44.427832  26.087470\n",
       "2  Palatul_Parlamentului_0_mapillary_2.jpg  44.427690  26.087413\n",
       "3  Palatul_Parlamentului_0_mapillary_3.jpg  44.427868  26.087491\n",
       "4  Palatul_Parlamentului_0_mapillary_4.jpg  44.427915  26.087493"
      ]
     },
     "execution_count": 4,
     "metadata": {},
     "output_type": "execute_result"
    }
   ],
   "source": [
    "base_df.head()"
   ]
  },
  {
   "cell_type": "code",
   "execution_count": 5,
   "id": "6bf94745",
   "metadata": {},
   "outputs": [
    {
     "data": {
      "application/vnd.microsoft.datawrangler.viewer.v0+json": {
       "columns": [
        {
         "name": "index",
         "rawType": "int64",
         "type": "integer"
        },
        {
         "name": "IMG_FILE",
         "rawType": "object",
         "type": "string"
        },
        {
         "name": "LAT",
         "rawType": "float64",
         "type": "float"
        },
        {
         "name": "LON",
         "rawType": "float64",
         "type": "float"
        }
       ],
       "ref": "e1b69082-ff10-48a6-a241-32d73e328e51",
       "rows": [
        [
         "0",
         "AFI_Cotroceni_coord_33_h40.jpg",
         "44.4284772415606",
         "26.04994283620884"
        ],
        [
         "1",
         "AFI_Cotroceni_coord_158_h77.jpg",
         "44.42757097364139",
         "26.03430389017416"
        ],
        [
         "2",
         "AFI_Cotroceni_coord_249_h231.jpg",
         "44.43158630905112",
         "26.054433782029683"
        ],
        [
         "3",
         "AFI_Cotroceni_coord_260_h215.jpg",
         "44.432575939510215",
         "26.05442544954023"
        ],
        [
         "4",
         "AFI_Cotroceni_coord_101_h74.jpg",
         "44.42811077473476",
         "26.041419305023343"
        ]
       ],
       "shape": {
        "columns": 3,
        "rows": 5
       }
      },
      "text/html": [
       "<div>\n",
       "<style scoped>\n",
       "    .dataframe tbody tr th:only-of-type {\n",
       "        vertical-align: middle;\n",
       "    }\n",
       "\n",
       "    .dataframe tbody tr th {\n",
       "        vertical-align: top;\n",
       "    }\n",
       "\n",
       "    .dataframe thead th {\n",
       "        text-align: right;\n",
       "    }\n",
       "</style>\n",
       "<table border=\"1\" class=\"dataframe\">\n",
       "  <thead>\n",
       "    <tr style=\"text-align: right;\">\n",
       "      <th></th>\n",
       "      <th>IMG_FILE</th>\n",
       "      <th>LAT</th>\n",
       "      <th>LON</th>\n",
       "    </tr>\n",
       "  </thead>\n",
       "  <tbody>\n",
       "    <tr>\n",
       "      <th>0</th>\n",
       "      <td>AFI_Cotroceni_coord_33_h40.jpg</td>\n",
       "      <td>44.428477</td>\n",
       "      <td>26.049943</td>\n",
       "    </tr>\n",
       "    <tr>\n",
       "      <th>1</th>\n",
       "      <td>AFI_Cotroceni_coord_158_h77.jpg</td>\n",
       "      <td>44.427571</td>\n",
       "      <td>26.034304</td>\n",
       "    </tr>\n",
       "    <tr>\n",
       "      <th>2</th>\n",
       "      <td>AFI_Cotroceni_coord_249_h231.jpg</td>\n",
       "      <td>44.431586</td>\n",
       "      <td>26.054434</td>\n",
       "    </tr>\n",
       "    <tr>\n",
       "      <th>3</th>\n",
       "      <td>AFI_Cotroceni_coord_260_h215.jpg</td>\n",
       "      <td>44.432576</td>\n",
       "      <td>26.054425</td>\n",
       "    </tr>\n",
       "    <tr>\n",
       "      <th>4</th>\n",
       "      <td>AFI_Cotroceni_coord_101_h74.jpg</td>\n",
       "      <td>44.428111</td>\n",
       "      <td>26.041419</td>\n",
       "    </tr>\n",
       "  </tbody>\n",
       "</table>\n",
       "</div>"
      ],
      "text/plain": [
       "                           IMG_FILE        LAT        LON\n",
       "0    AFI_Cotroceni_coord_33_h40.jpg  44.428477  26.049943\n",
       "1   AFI_Cotroceni_coord_158_h77.jpg  44.427571  26.034304\n",
       "2  AFI_Cotroceni_coord_249_h231.jpg  44.431586  26.054434\n",
       "3  AFI_Cotroceni_coord_260_h215.jpg  44.432576  26.054425\n",
       "4   AFI_Cotroceni_coord_101_h74.jpg  44.428111  26.041419"
      ]
     },
     "execution_count": 5,
     "metadata": {},
     "output_type": "execute_result"
    }
   ],
   "source": [
    "new_entries_df.head()"
   ]
  },
  {
   "cell_type": "code",
   "execution_count": 6,
   "id": "789aab6d",
   "metadata": {},
   "outputs": [],
   "source": [
    "df_mare = pd.concat([base_df, new_entries_df], ignore_index=True)"
   ]
  },
  {
   "cell_type": "code",
   "execution_count": 7,
   "id": "1a1e8d51",
   "metadata": {},
   "outputs": [
    {
     "name": "stdout",
     "output_type": "stream",
     "text": [
      "                                  IMG_FILE        LAT        LON\n",
      "0  Palatul_Parlamentului_0_mapillary_0.jpg  44.427865  26.087500\n",
      "1  Palatul_Parlamentului_0_mapillary_1.jpg  44.427832  26.087470\n",
      "2  Palatul_Parlamentului_0_mapillary_2.jpg  44.427690  26.087413\n",
      "3  Palatul_Parlamentului_0_mapillary_3.jpg  44.427868  26.087491\n",
      "4  Palatul_Parlamentului_0_mapillary_4.jpg  44.427915  26.087493\n",
      "                                     IMG_FILE        LAT        LON\n",
      "12011   Tribunalul_Bucuresti_coord_91_h43.jpg  44.426544  26.109576\n",
      "12012   Tribunalul_Bucuresti_coord_41_h50.jpg  44.426406  26.109137\n",
      "12013  Tribunalul_Bucuresti_coord_58_h319.jpg  44.426312  26.111268\n",
      "12014   Tribunalul_Bucuresti_coord_90_h37.jpg  44.426538  26.109701\n",
      "12015   Tribunalul_Bucuresti_coord_48_h16.jpg  44.426367  26.110015\n"
     ]
    }
   ],
   "source": [
    "print(df_mare.head())\n",
    "print(df_mare.tail())"
   ]
  },
  {
   "cell_type": "code",
   "execution_count": 9,
   "id": "29759fb7",
   "metadata": {},
   "outputs": [
    {
     "name": "stdout",
     "output_type": "stream",
     "text": [
      "(12016, 3)\n",
      "(9639, 3)\n",
      "(2377, 3)\n"
     ]
    }
   ],
   "source": [
    "print(df_mare.shape)\n",
    "print(base_df.shape)\n",
    "print(new_entries_df.shape)"
   ]
  },
  {
   "cell_type": "code",
   "execution_count": 8,
   "id": "10f459c9",
   "metadata": {},
   "outputs": [],
   "source": [
    "df_mare.to_csv('landmarks_antrenare_mare.csv', index=False)"
   ]
  }
 ],
 "metadata": {
  "kernelspec": {
   "display_name": ".venv",
   "language": "python",
   "name": "python3"
  },
  "language_info": {
   "codemirror_mode": {
    "name": "ipython",
    "version": 3
   },
   "file_extension": ".py",
   "mimetype": "text/x-python",
   "name": "python",
   "nbconvert_exporter": "python",
   "pygments_lexer": "ipython3",
   "version": "3.13.0"
  }
 },
 "nbformat": 4,
 "nbformat_minor": 5
}
