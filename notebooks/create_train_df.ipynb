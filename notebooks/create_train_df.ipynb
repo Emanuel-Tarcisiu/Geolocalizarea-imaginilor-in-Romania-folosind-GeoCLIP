{
 "cells": [
  {
   "cell_type": "code",
   "execution_count": 9,
   "id": "21f779b5",
   "metadata": {},
   "outputs": [],
   "source": [
    "import pandas as pd\n",
    "import os"
   ]
  },
  {
   "cell_type": "code",
   "execution_count": 10,
   "id": "9b564faf",
   "metadata": {},
   "outputs": [],
   "source": [
    "csv_file = 'landmarks_streetview_meu_mare.csv'\n",
    "df = pd.read_csv(csv_file)"
   ]
  },
  {
   "cell_type": "code",
   "execution_count": 11,
   "id": "36a24f82",
   "metadata": {},
   "outputs": [],
   "source": [
    "df[\"OBJECTIVE\"] = df[\"IMG_FILE\"].apply(lambda x: \"_\".join(x.split(\"_\")[:-3]))"
   ]
  },
  {
   "cell_type": "code",
   "execution_count": 12,
   "id": "7ea82df2",
   "metadata": {},
   "outputs": [
    {
     "data": {
      "application/vnd.microsoft.datawrangler.viewer.v0+json": {
       "columns": [
        {
         "name": "index",
         "rawType": "int64",
         "type": "integer"
        },
        {
         "name": "IMG_FILE",
         "rawType": "object",
         "type": "string"
        },
        {
         "name": "LAT",
         "rawType": "float64",
         "type": "float"
        },
        {
         "name": "LON",
         "rawType": "float64",
         "type": "float"
        },
        {
         "name": "OBJECTIVE",
         "rawType": "object",
         "type": "string"
        }
       ],
       "ref": "8b372f38-335b-4f2a-867a-7aa8fb875507",
       "rows": [
        [
         "0",
         "Palatul_Parlamentului_coord_0_h222.jpg",
         "44.4301407",
         "26.0910817",
         "Palatul_Parlamentului"
        ],
        [
         "1",
         "Palatul_Parlamentului_coord_1_h223.jpg",
         "44.43005082583934",
         "26.091075267426337",
         "Palatul_Parlamentului"
        ],
        [
         "2",
         "Palatul_Parlamentului_coord_2_h224.jpg",
         "44.42996095167689",
         "26.091068834872388",
         "Palatul_Parlamentului"
        ],
        [
         "3",
         "Palatul_Parlamentului_coord_3_h225.jpg",
         "44.42987106230871",
         "26.09106337924066",
         "Palatul_Parlamentului"
        ],
        [
         "4",
         "Palatul_Parlamentului_coord_4_h226.jpg",
         "44.429781192285226",
         "26.09105774843599",
         "Palatul_Parlamentului"
        ],
        [
         "5",
         "Palatul_Parlamentului_coord_5_h227.jpg",
         "44.429691357776335",
         "26.09105031490841",
         "Palatul_Parlamentului"
        ],
        [
         "6",
         "Palatul_Parlamentului_coord_6_h228.jpg",
         "44.42960152326556",
         "26.09104288140361",
         "Palatul_Parlamentului"
        ],
        [
         "7",
         "Palatul_Parlamentului_coord_7_h229.jpg",
         "44.42951168875288",
         "26.091035447921577",
         "Palatul_Parlamentului"
        ],
        [
         "8",
         "Palatul_Parlamentului_coord_8_h231.jpg",
         "44.42942185423828",
         "26.09102801446232",
         "Palatul_Parlamentului"
        ],
        [
         "9",
         "Palatul_Parlamentului_coord_9_h232.jpg",
         "44.429331997527264",
         "26.09102116582298",
         "Palatul_Parlamentului"
        ],
        [
         "10",
         "Palatul_Parlamentului_coord_10_h233.jpg",
         "44.429242113154",
         "26.091015017159563",
         "Palatul_Parlamentului"
        ],
        [
         "11",
         "Palatul_Parlamentului_coord_11_h235.jpg",
         "44.429152228779",
         "26.091008868515",
         "Palatul_Parlamentului"
        ],
        [
         "12",
         "Palatul_Parlamentului_coord_12_h236.jpg",
         "44.42906234440224",
         "26.091002719889275",
         "Palatul_Parlamentului"
        ],
        [
         "13",
         "Palatul_Parlamentului_coord_13_h238.jpg",
         "44.42897246002372",
         "26.0909965712824",
         "Palatul_Parlamentului"
        ],
        [
         "14",
         "Palatul_Parlamentului_coord_14_h240.jpg",
         "44.428882575643456",
         "26.09099042269437",
         "Palatul_Parlamentului"
        ],
        [
         "15",
         "Palatul_Parlamentului_coord_15_h241.jpg",
         "44.42879269126144",
         "26.090984274125187",
         "Palatul_Parlamentului"
        ],
        [
         "16",
         "Palatul_Parlamentului_coord_16_h243.jpg",
         "44.42870280687767",
         "26.09097812557485",
         "Palatul_Parlamentului"
        ],
        [
         "17",
         "Palatul_Parlamentului_coord_17_h245.jpg",
         "44.42861292249214",
         "26.09097197704336",
         "Palatul_Parlamentului"
        ],
        [
         "18",
         "Palatul_Parlamentului_coord_18_h247.jpg",
         "44.42852303810487",
         "26.09096582853072",
         "Palatul_Parlamentului"
        ],
        [
         "19",
         "Palatul_Parlamentului_coord_19_h249.jpg",
         "44.4284331658691",
         "26.09095933669192",
         "Palatul_Parlamentului"
        ],
        [
         "20",
         "Palatul_Parlamentului_coord_20_h327.jpg",
         "44.4245676",
         "26.0905925",
         "Palatul_Parlamentului"
        ],
        [
         "21",
         "Palatul_Parlamentului_coord_21_h328.jpg",
         "44.42457523394756",
         "26.090467375026915",
         "Palatul_Parlamentului"
        ],
        [
         "22",
         "Palatul_Parlamentului_coord_22_h329.jpg",
         "44.424582867758026",
         "26.090342250021266",
         "Palatul_Parlamentului"
        ],
        [
         "23",
         "Palatul_Parlamentului_coord_23_h331.jpg",
         "44.42459050143143",
         "26.09021712498305",
         "Palatul_Parlamentului"
        ],
        [
         "24",
         "Palatul_Parlamentului_coord_24_h332.jpg",
         "44.42459805868951",
         "26.09009199086759",
         "Palatul_Parlamentului"
        ],
        [
         "25",
         "Palatul_Parlamentului_coord_25_h333.jpg",
         "44.42460569729182",
         "26.08996686638269",
         "Palatul_Parlamentului"
        ],
        [
         "26",
         "Palatul_Parlamentului_coord_26_h334.jpg",
         "44.42461328171978",
         "26.089841735454247",
         "Palatul_Parlamentului"
        ],
        [
         "27",
         "Palatul_Parlamentului_coord_27_h336.jpg",
         "44.4246209289672",
         "26.08971661196513",
         "Palatul_Parlamentului"
        ],
        [
         "28",
         "Palatul_Parlamentului_coord_28_h337.jpg",
         "44.424628576077545",
         "26.0895914884434",
         "Palatul_Parlamentului"
        ],
        [
         "29",
         "Palatul_Parlamentului_coord_29_h339.jpg",
         "44.42463622305081",
         "26.089466364889034",
         "Palatul_Parlamentului"
        ],
        [
         "30",
         "Palatul_Parlamentului_coord_30_h340.jpg",
         "44.424643869887",
         "26.089341241302048",
         "Palatul_Parlamentului"
        ],
        [
         "31",
         "Palatul_Parlamentului_coord_31_h342.jpg",
         "44.42465151658613",
         "26.08921611768244",
         "Palatul_Parlamentului"
        ],
        [
         "32",
         "Palatul_Parlamentului_coord_32_h343.jpg",
         "44.42465916314816",
         "26.08909099403021",
         "Palatul_Parlamentului"
        ],
        [
         "33",
         "Palatul_Parlamentului_coord_33_h345.jpg",
         "44.424666809573125",
         "26.08896587034537",
         "Palatul_Parlamentului"
        ],
        [
         "34",
         "Palatul_Parlamentului_coord_34_h346.jpg",
         "44.424674455861016",
         "26.08884074662789",
         "Palatul_Parlamentului"
        ],
        [
         "35",
         "Palatul_Parlamentului_coord_35_h348.jpg",
         "44.42468185639935",
         "26.08871559370211",
         "Palatul_Parlamentului"
        ],
        [
         "36",
         "Palatul_Parlamentului_coord_36_h350.jpg",
         "44.42468949911997",
         "26.088590469528167",
         "Palatul_Parlamentului"
        ],
        [
         "37",
         "Palatul_Parlamentului_coord_37_h351.jpg",
         "44.42469714170351",
         "26.088465345321616",
         "Palatul_Parlamentului"
        ],
        [
         "38",
         "Palatul_Parlamentului_coord_38_h353.jpg",
         "44.42470478414997",
         "26.088340221082465",
         "Palatul_Parlamentului"
        ],
        [
         "39",
         "Palatul_Parlamentului_coord_39_h355.jpg",
         "44.42471242645935",
         "26.08821509681071",
         "Palatul_Parlamentului"
        ],
        [
         "40",
         "Palatul_Parlamentului_coord_40_h356.jpg",
         "44.42472006863165",
         "26.08808997250635",
         "Palatul_Parlamentului"
        ],
        [
         "41",
         "Palatul_Parlamentului_coord_41_h358.jpg",
         "44.42472771066688",
         "26.08796484816939",
         "Palatul_Parlamentului"
        ],
        [
         "42",
         "Palatul_Parlamentului_coord_42_h0.jpg",
         "44.42473535256503",
         "26.087839723799824",
         "Palatul_Parlamentului"
        ],
        [
         "43",
         "Palatul_Parlamentului_coord_43_h2.jpg",
         "44.4247429943261",
         "26.08771459939766",
         "Palatul_Parlamentului"
        ],
        [
         "44",
         "Palatul_Parlamentului_coord_44_h4.jpg",
         "44.42475063595008",
         "26.087589474962897",
         "Palatul_Parlamentului"
        ],
        [
         "45",
         "Palatul_Parlamentului_coord_45_h5.jpg",
         "44.42475827743701",
         "26.08746435049553",
         "Palatul_Parlamentului"
        ],
        [
         "46",
         "Palatul_Parlamentului_coord_46_h7.jpg",
         "44.424765918786846",
         "26.087339225995564",
         "Palatul_Parlamentului"
        ],
        [
         "47",
         "Palatul_Parlamentului_coord_47_h9.jpg",
         "44.42477355999961",
         "26.087214101463",
         "Palatul_Parlamentului"
        ],
        [
         "48",
         "Palatul_Parlamentului_coord_48_h11.jpg",
         "44.42478099590919",
         "26.087088952733247",
         "Palatul_Parlamentului"
        ],
        [
         "49",
         "Palatul_Parlamentului_coord_49_h13.jpg",
         "44.42478866846712",
         "26.08696383193097",
         "Palatul_Parlamentului"
        ]
       ],
       "shape": {
        "columns": 4,
        "rows": 2981
       }
      },
      "text/html": [
       "<div>\n",
       "<style scoped>\n",
       "    .dataframe tbody tr th:only-of-type {\n",
       "        vertical-align: middle;\n",
       "    }\n",
       "\n",
       "    .dataframe tbody tr th {\n",
       "        vertical-align: top;\n",
       "    }\n",
       "\n",
       "    .dataframe thead th {\n",
       "        text-align: right;\n",
       "    }\n",
       "</style>\n",
       "<table border=\"1\" class=\"dataframe\">\n",
       "  <thead>\n",
       "    <tr style=\"text-align: right;\">\n",
       "      <th></th>\n",
       "      <th>IMG_FILE</th>\n",
       "      <th>LAT</th>\n",
       "      <th>LON</th>\n",
       "      <th>OBJECTIVE</th>\n",
       "    </tr>\n",
       "  </thead>\n",
       "  <tbody>\n",
       "    <tr>\n",
       "      <th>0</th>\n",
       "      <td>Palatul_Parlamentului_coord_0_h222.jpg</td>\n",
       "      <td>44.430141</td>\n",
       "      <td>26.091082</td>\n",
       "      <td>Palatul_Parlamentului</td>\n",
       "    </tr>\n",
       "    <tr>\n",
       "      <th>1</th>\n",
       "      <td>Palatul_Parlamentului_coord_1_h223.jpg</td>\n",
       "      <td>44.430051</td>\n",
       "      <td>26.091075</td>\n",
       "      <td>Palatul_Parlamentului</td>\n",
       "    </tr>\n",
       "    <tr>\n",
       "      <th>2</th>\n",
       "      <td>Palatul_Parlamentului_coord_2_h224.jpg</td>\n",
       "      <td>44.429961</td>\n",
       "      <td>26.091069</td>\n",
       "      <td>Palatul_Parlamentului</td>\n",
       "    </tr>\n",
       "    <tr>\n",
       "      <th>3</th>\n",
       "      <td>Palatul_Parlamentului_coord_3_h225.jpg</td>\n",
       "      <td>44.429871</td>\n",
       "      <td>26.091063</td>\n",
       "      <td>Palatul_Parlamentului</td>\n",
       "    </tr>\n",
       "    <tr>\n",
       "      <th>4</th>\n",
       "      <td>Palatul_Parlamentului_coord_4_h226.jpg</td>\n",
       "      <td>44.429781</td>\n",
       "      <td>26.091058</td>\n",
       "      <td>Palatul_Parlamentului</td>\n",
       "    </tr>\n",
       "    <tr>\n",
       "      <th>...</th>\n",
       "      <td>...</td>\n",
       "      <td>...</td>\n",
       "      <td>...</td>\n",
       "      <td>...</td>\n",
       "    </tr>\n",
       "    <tr>\n",
       "      <th>2976</th>\n",
       "      <td>Spitalul_Universitar_de_Urgenta_coord_175_h290...</td>\n",
       "      <td>44.435420</td>\n",
       "      <td>26.074217</td>\n",
       "      <td>Spitalul_Universitar_de_Urgenta</td>\n",
       "    </tr>\n",
       "    <tr>\n",
       "      <th>2977</th>\n",
       "      <td>Spitalul_Universitar_de_Urgenta_coord_176_h288...</td>\n",
       "      <td>44.435484</td>\n",
       "      <td>26.074305</td>\n",
       "      <td>Spitalul_Universitar_de_Urgenta</td>\n",
       "    </tr>\n",
       "    <tr>\n",
       "      <th>2978</th>\n",
       "      <td>Spitalul_Universitar_de_Urgenta_coord_177_h285...</td>\n",
       "      <td>44.435549</td>\n",
       "      <td>26.074392</td>\n",
       "      <td>Spitalul_Universitar_de_Urgenta</td>\n",
       "    </tr>\n",
       "    <tr>\n",
       "      <th>2979</th>\n",
       "      <td>Spitalul_Universitar_de_Urgenta_coord_178_h283...</td>\n",
       "      <td>44.435613</td>\n",
       "      <td>26.074480</td>\n",
       "      <td>Spitalul_Universitar_de_Urgenta</td>\n",
       "    </tr>\n",
       "    <tr>\n",
       "      <th>2980</th>\n",
       "      <td>Spitalul_Universitar_de_Urgenta_coord_179_h281...</td>\n",
       "      <td>44.435678</td>\n",
       "      <td>26.074567</td>\n",
       "      <td>Spitalul_Universitar_de_Urgenta</td>\n",
       "    </tr>\n",
       "  </tbody>\n",
       "</table>\n",
       "<p>2981 rows × 4 columns</p>\n",
       "</div>"
      ],
      "text/plain": [
       "                                               IMG_FILE        LAT        LON  \\\n",
       "0                Palatul_Parlamentului_coord_0_h222.jpg  44.430141  26.091082   \n",
       "1                Palatul_Parlamentului_coord_1_h223.jpg  44.430051  26.091075   \n",
       "2                Palatul_Parlamentului_coord_2_h224.jpg  44.429961  26.091069   \n",
       "3                Palatul_Parlamentului_coord_3_h225.jpg  44.429871  26.091063   \n",
       "4                Palatul_Parlamentului_coord_4_h226.jpg  44.429781  26.091058   \n",
       "...                                                 ...        ...        ...   \n",
       "2976  Spitalul_Universitar_de_Urgenta_coord_175_h290...  44.435420  26.074217   \n",
       "2977  Spitalul_Universitar_de_Urgenta_coord_176_h288...  44.435484  26.074305   \n",
       "2978  Spitalul_Universitar_de_Urgenta_coord_177_h285...  44.435549  26.074392   \n",
       "2979  Spitalul_Universitar_de_Urgenta_coord_178_h283...  44.435613  26.074480   \n",
       "2980  Spitalul_Universitar_de_Urgenta_coord_179_h281...  44.435678  26.074567   \n",
       "\n",
       "                            OBJECTIVE  \n",
       "0               Palatul_Parlamentului  \n",
       "1               Palatul_Parlamentului  \n",
       "2               Palatul_Parlamentului  \n",
       "3               Palatul_Parlamentului  \n",
       "4               Palatul_Parlamentului  \n",
       "...                               ...  \n",
       "2976  Spitalul_Universitar_de_Urgenta  \n",
       "2977  Spitalul_Universitar_de_Urgenta  \n",
       "2978  Spitalul_Universitar_de_Urgenta  \n",
       "2979  Spitalul_Universitar_de_Urgenta  \n",
       "2980  Spitalul_Universitar_de_Urgenta  \n",
       "\n",
       "[2981 rows x 4 columns]"
      ]
     },
     "execution_count": 12,
     "metadata": {},
     "output_type": "execute_result"
    }
   ],
   "source": [
    "df"
   ]
  },
  {
   "cell_type": "code",
   "execution_count": 13,
   "id": "4b72dc92",
   "metadata": {},
   "outputs": [],
   "source": [
    "train_data = pd.DataFrame(columns=df.columns)\n",
    "val_data = pd.DataFrame(columns=df.columns)"
   ]
  },
  {
   "cell_type": "code",
   "execution_count": 14,
   "id": "dd2c6af7",
   "metadata": {},
   "outputs": [
    {
     "name": "stderr",
     "output_type": "stream",
     "text": [
      "C:\\Users\\emy\\AppData\\Local\\Temp\\ipykernel_23336\\202693421.py:6: FutureWarning: The behavior of DataFrame concatenation with empty or all-NA entries is deprecated. In a future version, this will no longer exclude empty or all-NA columns when determining the result dtypes. To retain the old behavior, exclude the relevant entries before the concat operation.\n",
      "  train_data = pd.concat([train_data, train_samples])\n",
      "C:\\Users\\emy\\AppData\\Local\\Temp\\ipykernel_23336\\202693421.py:7: FutureWarning: The behavior of DataFrame concatenation with empty or all-NA entries is deprecated. In a future version, this will no longer exclude empty or all-NA columns when determining the result dtypes. To retain the old behavior, exclude the relevant entries before the concat operation.\n",
      "  val_data = pd.concat([val_data, val_samples])\n"
     ]
    }
   ],
   "source": [
    "for objective, group in df.groupby(\"OBJECTIVE\"):\n",
    "    train_size = int(len(group) * 0.8)\n",
    "    train_samples = group.sample(train_size, random_state=42)\n",
    "    val_samples = group.drop(train_samples.index)\n",
    "\n",
    "    train_data = pd.concat([train_data, train_samples])\n",
    "    val_data = pd.concat([val_data, val_samples])"
   ]
  },
  {
   "cell_type": "code",
   "execution_count": 15,
   "id": "a4c64387",
   "metadata": {},
   "outputs": [],
   "source": [
    "train_data.drop(columns=[\"OBJECTIVE\"], inplace=True)\n",
    "val_data.drop(columns=[\"OBJECTIVE\"], inplace=True)"
   ]
  },
  {
   "cell_type": "code",
   "execution_count": 16,
   "id": "9234e3b6",
   "metadata": {},
   "outputs": [],
   "source": [
    "train_data.to_csv(\"train_dataset.csv\", index=False)\n",
    "val_data.to_csv(\"val_dataset.csv\", index=False)"
   ]
  }
 ],
 "metadata": {
  "kernelspec": {
   "display_name": ".venv",
   "language": "python",
   "name": "python3"
  },
  "language_info": {
   "codemirror_mode": {
    "name": "ipython",
    "version": 3
   },
   "file_extension": ".py",
   "mimetype": "text/x-python",
   "name": "python",
   "nbconvert_exporter": "python",
   "pygments_lexer": "ipython3",
   "version": "3.13.0"
  }
 },
 "nbformat": 4,
 "nbformat_minor": 5
}
